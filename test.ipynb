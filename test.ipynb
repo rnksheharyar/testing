{
 "cells": [
  {
   "cell_type": "code",
   "execution_count": 1,
   "metadata": {},
   "outputs": [
    {
     "name": "stdout",
     "output_type": "stream",
     "text": [
      "Collecting tabula-pyNote: you may need to restart the kernel to use updated packages.\n",
      "\n",
      "  Downloading tabula_py-2.9.0-py3-none-any.whl.metadata (7.5 kB)\n",
      "Requirement already satisfied: pandas in c:\\users\\sheha\\appdata\\local\\programs\\python\\python311\\lib\\site-packages (2.1.1)\n",
      "Collecting openpyxl\n",
      "  Downloading openpyxl-3.1.2-py2.py3-none-any.whl (249 kB)\n",
      "     ---------------------------------------- 0.0/250.0 kB ? eta -:--:--\n",
      "     ---- -------------------------------- 30.7/250.0 kB 640.0 kB/s eta 0:00:01\n",
      "     -------------- --------------------- 102.4/250.0 kB 980.4 kB/s eta 0:00:01\n",
      "     ---------------------------------- --- 225.3/250.0 kB 1.5 MB/s eta 0:00:01\n",
      "     -------------------------------------- 250.0/250.0 kB 1.5 MB/s eta 0:00:00\n",
      "Requirement already satisfied: numpy in c:\\users\\sheha\\appdata\\local\\programs\\python\\python311\\lib\\site-packages (from tabula-py) (1.26.1)\n",
      "Collecting distro (from tabula-py)\n",
      "  Downloading distro-1.9.0-py3-none-any.whl.metadata (6.8 kB)\n",
      "Requirement already satisfied: python-dateutil>=2.8.2 in c:\\users\\sheha\\appdata\\local\\programs\\python\\python311\\lib\\site-packages (from pandas) (2.8.2)\n",
      "Requirement already satisfied: pytz>=2020.1 in c:\\users\\sheha\\appdata\\local\\programs\\python\\python311\\lib\\site-packages (from pandas) (2023.3.post1)\n",
      "Requirement already satisfied: tzdata>=2022.1 in c:\\users\\sheha\\appdata\\local\\programs\\python\\python311\\lib\\site-packages (from pandas) (2023.3)\n",
      "Collecting et-xmlfile (from openpyxl)\n",
      "  Downloading et_xmlfile-1.1.0-py3-none-any.whl (4.7 kB)\n",
      "Requirement already satisfied: six>=1.5 in c:\\users\\sheha\\appdata\\local\\programs\\python\\python311\\lib\\site-packages (from python-dateutil>=2.8.2->pandas) (1.16.0)\n",
      "Downloading tabula_py-2.9.0-py3-none-any.whl (12.0 MB)\n",
      "   ---------------------------------------- 0.0/12.0 MB ? eta -:--:--\n",
      "    --------------------------------------- 0.2/12.0 MB 5.9 MB/s eta 0:00:02\n",
      "   - -------------------------------------- 0.6/12.0 MB 7.0 MB/s eta 0:00:02\n",
      "   --- ------------------------------------ 1.1/12.0 MB 8.7 MB/s eta 0:00:02\n",
      "   ------ --------------------------------- 1.9/12.0 MB 11.2 MB/s eta 0:00:01\n",
      "   --------- ------------------------------ 2.8/12.0 MB 12.9 MB/s eta 0:00:01\n",
      "   ------------- -------------------------- 4.0/12.0 MB 14.0 MB/s eta 0:00:01\n",
      "   --------------- ------------------------ 4.8/12.0 MB 14.5 MB/s eta 0:00:01\n",
      "   ------------------ --------------------- 5.7/12.0 MB 15.0 MB/s eta 0:00:01\n",
      "   --------------------- ------------------ 6.5/12.0 MB 15.4 MB/s eta 0:00:01\n",
      "   ------------------------ --------------- 7.3/12.0 MB 15.6 MB/s eta 0:00:01\n",
      "   --------------------------- ------------ 8.3/12.0 MB 16.0 MB/s eta 0:00:01\n",
      "   ------------------------------ --------- 9.1/12.0 MB 16.2 MB/s eta 0:00:01\n",
      "   --------------------------------- ------ 9.9/12.0 MB 16.3 MB/s eta 0:00:01\n",
      "   ----------------------------------- ---- 10.7/12.0 MB 17.7 MB/s eta 0:00:01\n",
      "   -------------------------------------- - 11.6/12.0 MB 18.7 MB/s eta 0:00:01\n",
      "   ---------------------------------------  12.0/12.0 MB 18.2 MB/s eta 0:00:01\n",
      "   ---------------------------------------- 12.0/12.0 MB 16.4 MB/s eta 0:00:00\n",
      "Downloading distro-1.9.0-py3-none-any.whl (20 kB)\n",
      "Installing collected packages: et-xmlfile, distro, openpyxl, tabula-py\n",
      "Successfully installed distro-1.9.0 et-xmlfile-1.1.0 openpyxl-3.1.2 tabula-py-2.9.0\n"
     ]
    },
    {
     "name": "stderr",
     "output_type": "stream",
     "text": [
      "\n",
      "[notice] A new release of pip is available: 23.3.1 -> 23.3.2\n",
      "[notice] To update, run: python.exe -m pip install --upgrade pip\n"
     ]
    }
   ],
   "source": [
    "pip install tabula-py pandas openpyxl\n"
   ]
  },
  {
   "cell_type": "code",
   "execution_count": 3,
   "metadata": {},
   "outputs": [
    {
     "name": "stdout",
     "output_type": "stream",
     "text": [
      "Requirement already satisfied: pdfminer.six in c:\\users\\sheha\\appdata\\local\\programs\\python\\python311\\lib\\site-packages (20231228)\n",
      "Requirement already satisfied: charset-normalizer>=2.0.0 in c:\\users\\sheha\\appdata\\local\\programs\\python\\python311\\lib\\site-packages (from pdfminer.six) (3.3.0)\n",
      "Requirement already satisfied: cryptography>=36.0.0 in c:\\users\\sheha\\appdata\\local\\programs\\python\\python311\\lib\\site-packages (from pdfminer.six) (41.0.7)\n",
      "Requirement already satisfied: cffi>=1.12 in c:\\users\\sheha\\appdata\\local\\programs\\python\\python311\\lib\\site-packages (from cryptography>=36.0.0->pdfminer.six) (1.16.0)\n",
      "Requirement already satisfied: pycparser in c:\\users\\sheha\\appdata\\local\\programs\\python\\python311\\lib\\site-packages (from cffi>=1.12->cryptography>=36.0.0->pdfminer.six) (2.21)\n",
      "Note: you may need to restart the kernel to use updated packages.\n"
     ]
    }
   ],
   "source": [
    "pip install pdfminer.six"
   ]
  },
  {
   "cell_type": "code",
   "execution_count": 7,
   "metadata": {},
   "outputs": [],
   "source": [
    "import pdfplumber\n",
    "import pandas as pd\n",
    "\n",
    "def parse_pdf_to_excel(pdf_path, excel_path):\n",
    "    # Open the PDF with pdfplumber\n",
    "    with pdfplumber.open(pdf_path) as pdf:\n",
    "        # Initialize a list to store the tables\n",
    "        tables = []\n",
    "\n",
    "        # Iterate through the pages of the PDF\n",
    "        for page in pdf.pages:\n",
    "            # Extract tables from the page\n",
    "            for table in page.extract_tables():\n",
    "                # Convert the table to a DataFrame and add it to 'tables'\n",
    "                tables.append(pd.DataFrame(table))\n",
    "\n",
    "        # Concatenate all tables into a single DataFrame\n",
    "        tables = pd.concat(tables)\n",
    "\n",
    "    # Write the tables to an Excel file\n",
    "    tables.to_excel(excel_path, index=False)\n",
    "\n",
    "if __name__ == \"__main__\":\n",
    "    # Replace 'input.pdf' with the path to your PDF file\n",
    "    pdf_path = 'python面试题_测试文档.pdf'\n",
    "    \n",
    "    # Replace 'output.xlsx' with the desired Excel file name\n",
    "    excel_path = 'new.xlsx'\n",
    "    \n",
    "    parse_pdf_to_excel(pdf_path, excel_path)"
   ]
  }
 ],
 "metadata": {
  "kernelspec": {
   "display_name": "Python 3",
   "language": "python",
   "name": "python3"
  },
  "language_info": {
   "codemirror_mode": {
    "name": "ipython",
    "version": 3
   },
   "file_extension": ".py",
   "mimetype": "text/x-python",
   "name": "python",
   "nbconvert_exporter": "python",
   "pygments_lexer": "ipython3",
   "version": "3.11.5"
  }
 },
 "nbformat": 4,
 "nbformat_minor": 2
}
